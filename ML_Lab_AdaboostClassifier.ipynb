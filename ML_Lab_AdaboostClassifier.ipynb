{
  "nbformat": 4,
  "nbformat_minor": 0,
  "metadata": {
    "colab": {
      "name": "ML_Lab-AdaboostClassifier.ipynb",
      "provenance": [],
      "include_colab_link": true
    },
    "kernelspec": {
      "name": "python3",
      "display_name": "Python 3"
    }
  },
  "cells": [
    {
      "cell_type": "markdown",
      "metadata": {
        "id": "view-in-github",
        "colab_type": "text"
      },
      "source": [
        "<a href=\"https://colab.research.google.com/github/thejakunam/Machine-Learning/blob/master/ML_Lab_AdaboostClassifier.ipynb\" target=\"_parent\"><img src=\"https://colab.research.google.com/assets/colab-badge.svg\" alt=\"Open In Colab\"/></a>"
      ]
    },
    {
      "cell_type": "code",
      "metadata": {
        "id": "HaX2ZgWOhH_k",
        "colab_type": "code",
        "colab": {}
      },
      "source": [
        "import pandas as pd\n",
        "import numpy as np\n",
        "\n",
        "dataset = pd.read_csv(\"https://archive.ics.uci.edu/ml/machine-learning-databases/00267/data_banknote_authentication.txt\")\n",
        "\n",
        "X = dataset.iloc[:, [0, 3]]\n",
        "y = dataset.iloc[:, 4]\n",
        "\n",
        "from sklearn.model_selection import train_test_split\n",
        "X_train, X_test, y_train, y_test = train_test_split(X, y, test_size=0.20)"
      ],
      "execution_count": 0,
      "outputs": []
    },
    {
      "cell_type": "code",
      "metadata": {
        "id": "die0DQmUhkSg",
        "colab_type": "code",
        "colab": {
          "base_uri": "https://localhost:8080/",
          "height": 51
        },
        "outputId": "52c41dce-97da-4e9f-bb30-342949344ab0"
      },
      "source": [
        "from sklearn.ensemble import AdaBoostClassifier\n",
        "clf = AdaBoostClassifier(n_estimators=100, random_state=0)\n",
        "clf.fit(X_train, y_train)  "
      ],
      "execution_count": 7,
      "outputs": [
        {
          "output_type": "execute_result",
          "data": {
            "text/plain": [
              "AdaBoostClassifier(algorithm='SAMME.R', base_estimator=None, learning_rate=1.0,\n",
              "                   n_estimators=100, random_state=0)"
            ]
          },
          "metadata": {
            "tags": []
          },
          "execution_count": 7
        }
      ]
    },
    {
      "cell_type": "code",
      "metadata": {
        "id": "QqS70OkQiegL",
        "colab_type": "code",
        "colab": {}
      },
      "source": [
        "#tuning parameters for adaboost classifier\n",
        "from sklearn.neighbors import KNeighborsClassifier\n",
        "tuned_parameters = [{'n_estimators':[10,50,100],'learning_rate':[0.5,1.0],'algorithm':['SAMME','SAMME.R'],'random_state':[50,None]}]\n",
        "\n",
        "scores = ['precision', 'recall','f1']"
      ],
      "execution_count": 0,
      "outputs": []
    },
    {
      "cell_type": "code",
      "metadata": {
        "id": "FeGAx1eUkALI",
        "colab_type": "code",
        "colab": {
          "base_uri": "https://localhost:8080/",
          "height": 1000
        },
        "outputId": "9b05eaa8-c52d-4947-b03c-6f7df709d63c"
      },
      "source": [
        "from sklearn.model_selection import GridSearchCV\n",
        "from sklearn.metrics import classification_report\n",
        "from sklearn.ensemble import AdaBoostClassifier\n",
        "from sklearn.neighbors import KNeighborsClassifier\n",
        "for score in scores:\n",
        "    print(\"# Tuning hyper-parameters for %s\" % score)\n",
        "    print()\n",
        "\n",
        "    clf = GridSearchCV(AdaBoostClassifier(random_state=0), tuned_parameters, cv=5,\n",
        "                       scoring='%s_macro' % score)\n",
        "    clf.fit(X_train, y_train)\n",
        "\n",
        "    print(\"Best parameters set found on development set:\")\n",
        "    print()\n",
        "    print(clf.best_params_)\n",
        "    print()\n",
        "    print(\"Grid scores on development set:\")\n",
        "    print()\n",
        "    means = clf.cv_results_['mean_test_score']\n",
        "    stds = clf.cv_results_['std_test_score']\n",
        "    for mean, std, params in zip(means, stds, clf.cv_results_['params']):\n",
        "        print(\"%0.3f (+/-%0.03f) for %r\"\n",
        "              % (mean, std * 2, params))\n",
        "    print()\n",
        "\n",
        "    print(\"Detailed classification report:\")\n",
        "    print()\n",
        "    print(\"The model is trained on the full development set.\")\n",
        "    print(\"The scores are computed on the full evaluation set.\")\n",
        "    print()\n",
        "    y_true, y_pred = y_test, clf.predict(X_test)\n",
        "    print(classification_report(y_true, y_pred))\n",
        "    print()"
      ],
      "execution_count": 9,
      "outputs": [
        {
          "output_type": "stream",
          "text": [
            "# Tuning hyper-parameters for precision\n",
            "\n",
            "Best parameters set found on development set:\n",
            "\n",
            "{'algorithm': 'SAMME.R', 'learning_rate': 0.5, 'n_estimators': 100, 'random_state': 50}\n",
            "\n",
            "Grid scores on development set:\n",
            "\n",
            "0.852 (+/-0.031) for {'algorithm': 'SAMME', 'learning_rate': 0.5, 'n_estimators': 10, 'random_state': 50}\n",
            "0.852 (+/-0.031) for {'algorithm': 'SAMME', 'learning_rate': 0.5, 'n_estimators': 10, 'random_state': None}\n",
            "0.851 (+/-0.037) for {'algorithm': 'SAMME', 'learning_rate': 0.5, 'n_estimators': 50, 'random_state': 50}\n",
            "0.851 (+/-0.037) for {'algorithm': 'SAMME', 'learning_rate': 0.5, 'n_estimators': 50, 'random_state': None}\n",
            "0.870 (+/-0.062) for {'algorithm': 'SAMME', 'learning_rate': 0.5, 'n_estimators': 100, 'random_state': 50}\n",
            "0.870 (+/-0.062) for {'algorithm': 'SAMME', 'learning_rate': 0.5, 'n_estimators': 100, 'random_state': None}\n",
            "0.852 (+/-0.031) for {'algorithm': 'SAMME', 'learning_rate': 1.0, 'n_estimators': 10, 'random_state': 50}\n",
            "0.852 (+/-0.031) for {'algorithm': 'SAMME', 'learning_rate': 1.0, 'n_estimators': 10, 'random_state': None}\n",
            "0.866 (+/-0.036) for {'algorithm': 'SAMME', 'learning_rate': 1.0, 'n_estimators': 50, 'random_state': 50}\n",
            "0.866 (+/-0.036) for {'algorithm': 'SAMME', 'learning_rate': 1.0, 'n_estimators': 50, 'random_state': None}\n",
            "0.872 (+/-0.055) for {'algorithm': 'SAMME', 'learning_rate': 1.0, 'n_estimators': 100, 'random_state': 50}\n",
            "0.872 (+/-0.055) for {'algorithm': 'SAMME', 'learning_rate': 1.0, 'n_estimators': 100, 'random_state': None}\n",
            "0.861 (+/-0.048) for {'algorithm': 'SAMME.R', 'learning_rate': 0.5, 'n_estimators': 10, 'random_state': 50}\n",
            "0.861 (+/-0.048) for {'algorithm': 'SAMME.R', 'learning_rate': 0.5, 'n_estimators': 10, 'random_state': None}\n",
            "0.870 (+/-0.057) for {'algorithm': 'SAMME.R', 'learning_rate': 0.5, 'n_estimators': 50, 'random_state': 50}\n",
            "0.870 (+/-0.057) for {'algorithm': 'SAMME.R', 'learning_rate': 0.5, 'n_estimators': 50, 'random_state': None}\n",
            "0.873 (+/-0.059) for {'algorithm': 'SAMME.R', 'learning_rate': 0.5, 'n_estimators': 100, 'random_state': 50}\n",
            "0.873 (+/-0.059) for {'algorithm': 'SAMME.R', 'learning_rate': 0.5, 'n_estimators': 100, 'random_state': None}\n",
            "0.866 (+/-0.047) for {'algorithm': 'SAMME.R', 'learning_rate': 1.0, 'n_estimators': 10, 'random_state': 50}\n",
            "0.866 (+/-0.047) for {'algorithm': 'SAMME.R', 'learning_rate': 1.0, 'n_estimators': 10, 'random_state': None}\n",
            "0.868 (+/-0.065) for {'algorithm': 'SAMME.R', 'learning_rate': 1.0, 'n_estimators': 50, 'random_state': 50}\n",
            "0.868 (+/-0.065) for {'algorithm': 'SAMME.R', 'learning_rate': 1.0, 'n_estimators': 50, 'random_state': None}\n",
            "0.868 (+/-0.079) for {'algorithm': 'SAMME.R', 'learning_rate': 1.0, 'n_estimators': 100, 'random_state': 50}\n",
            "0.868 (+/-0.079) for {'algorithm': 'SAMME.R', 'learning_rate': 1.0, 'n_estimators': 100, 'random_state': None}\n",
            "\n",
            "Detailed classification report:\n",
            "\n",
            "The model is trained on the full development set.\n",
            "The scores are computed on the full evaluation set.\n",
            "\n",
            "              precision    recall  f1-score   support\n",
            "\n",
            "           0       0.82      0.91      0.86       139\n",
            "           1       0.89      0.80      0.84       136\n",
            "\n",
            "    accuracy                           0.85       275\n",
            "   macro avg       0.86      0.85      0.85       275\n",
            "weighted avg       0.86      0.85      0.85       275\n",
            "\n",
            "\n",
            "# Tuning hyper-parameters for recall\n",
            "\n",
            "Best parameters set found on development set:\n",
            "\n",
            "{'algorithm': 'SAMME.R', 'learning_rate': 0.5, 'n_estimators': 100, 'random_state': 50}\n",
            "\n",
            "Grid scores on development set:\n",
            "\n",
            "0.853 (+/-0.027) for {'algorithm': 'SAMME', 'learning_rate': 0.5, 'n_estimators': 10, 'random_state': 50}\n",
            "0.853 (+/-0.027) for {'algorithm': 'SAMME', 'learning_rate': 0.5, 'n_estimators': 10, 'random_state': None}\n",
            "0.851 (+/-0.035) for {'algorithm': 'SAMME', 'learning_rate': 0.5, 'n_estimators': 50, 'random_state': 50}\n",
            "0.851 (+/-0.035) for {'algorithm': 'SAMME', 'learning_rate': 0.5, 'n_estimators': 50, 'random_state': None}\n",
            "0.873 (+/-0.065) for {'algorithm': 'SAMME', 'learning_rate': 0.5, 'n_estimators': 100, 'random_state': 50}\n",
            "0.873 (+/-0.065) for {'algorithm': 'SAMME', 'learning_rate': 0.5, 'n_estimators': 100, 'random_state': None}\n",
            "0.853 (+/-0.027) for {'algorithm': 'SAMME', 'learning_rate': 1.0, 'n_estimators': 10, 'random_state': 50}\n",
            "0.853 (+/-0.027) for {'algorithm': 'SAMME', 'learning_rate': 1.0, 'n_estimators': 10, 'random_state': None}\n",
            "0.864 (+/-0.036) for {'algorithm': 'SAMME', 'learning_rate': 1.0, 'n_estimators': 50, 'random_state': 50}\n",
            "0.864 (+/-0.036) for {'algorithm': 'SAMME', 'learning_rate': 1.0, 'n_estimators': 50, 'random_state': None}\n",
            "0.872 (+/-0.056) for {'algorithm': 'SAMME', 'learning_rate': 1.0, 'n_estimators': 100, 'random_state': 50}\n",
            "0.872 (+/-0.056) for {'algorithm': 'SAMME', 'learning_rate': 1.0, 'n_estimators': 100, 'random_state': None}\n",
            "0.859 (+/-0.046) for {'algorithm': 'SAMME.R', 'learning_rate': 0.5, 'n_estimators': 10, 'random_state': 50}\n",
            "0.859 (+/-0.046) for {'algorithm': 'SAMME.R', 'learning_rate': 0.5, 'n_estimators': 10, 'random_state': None}\n",
            "0.872 (+/-0.057) for {'algorithm': 'SAMME.R', 'learning_rate': 0.5, 'n_estimators': 50, 'random_state': 50}\n",
            "0.872 (+/-0.057) for {'algorithm': 'SAMME.R', 'learning_rate': 0.5, 'n_estimators': 50, 'random_state': None}\n",
            "0.875 (+/-0.060) for {'algorithm': 'SAMME.R', 'learning_rate': 0.5, 'n_estimators': 100, 'random_state': 50}\n",
            "0.875 (+/-0.060) for {'algorithm': 'SAMME.R', 'learning_rate': 0.5, 'n_estimators': 100, 'random_state': None}\n",
            "0.865 (+/-0.046) for {'algorithm': 'SAMME.R', 'learning_rate': 1.0, 'n_estimators': 10, 'random_state': 50}\n",
            "0.865 (+/-0.046) for {'algorithm': 'SAMME.R', 'learning_rate': 1.0, 'n_estimators': 10, 'random_state': None}\n",
            "0.870 (+/-0.066) for {'algorithm': 'SAMME.R', 'learning_rate': 1.0, 'n_estimators': 50, 'random_state': 50}\n",
            "0.870 (+/-0.066) for {'algorithm': 'SAMME.R', 'learning_rate': 1.0, 'n_estimators': 50, 'random_state': None}\n",
            "0.870 (+/-0.079) for {'algorithm': 'SAMME.R', 'learning_rate': 1.0, 'n_estimators': 100, 'random_state': 50}\n",
            "0.870 (+/-0.079) for {'algorithm': 'SAMME.R', 'learning_rate': 1.0, 'n_estimators': 100, 'random_state': None}\n",
            "\n",
            "Detailed classification report:\n",
            "\n",
            "The model is trained on the full development set.\n",
            "The scores are computed on the full evaluation set.\n",
            "\n",
            "              precision    recall  f1-score   support\n",
            "\n",
            "           0       0.82      0.91      0.86       139\n",
            "           1       0.89      0.80      0.84       136\n",
            "\n",
            "    accuracy                           0.85       275\n",
            "   macro avg       0.86      0.85      0.85       275\n",
            "weighted avg       0.86      0.85      0.85       275\n",
            "\n",
            "\n",
            "# Tuning hyper-parameters for f1\n",
            "\n",
            "Best parameters set found on development set:\n",
            "\n",
            "{'algorithm': 'SAMME.R', 'learning_rate': 0.5, 'n_estimators': 100, 'random_state': 50}\n",
            "\n",
            "Grid scores on development set:\n",
            "\n",
            "0.850 (+/-0.027) for {'algorithm': 'SAMME', 'learning_rate': 0.5, 'n_estimators': 10, 'random_state': 50}\n",
            "0.850 (+/-0.027) for {'algorithm': 'SAMME', 'learning_rate': 0.5, 'n_estimators': 10, 'random_state': None}\n",
            "0.849 (+/-0.034) for {'algorithm': 'SAMME', 'learning_rate': 0.5, 'n_estimators': 50, 'random_state': 50}\n",
            "0.849 (+/-0.034) for {'algorithm': 'SAMME', 'learning_rate': 0.5, 'n_estimators': 50, 'random_state': None}\n",
            "0.871 (+/-0.063) for {'algorithm': 'SAMME', 'learning_rate': 0.5, 'n_estimators': 100, 'random_state': 50}\n",
            "0.871 (+/-0.063) for {'algorithm': 'SAMME', 'learning_rate': 0.5, 'n_estimators': 100, 'random_state': None}\n",
            "0.850 (+/-0.027) for {'algorithm': 'SAMME', 'learning_rate': 1.0, 'n_estimators': 10, 'random_state': 50}\n",
            "0.850 (+/-0.027) for {'algorithm': 'SAMME', 'learning_rate': 1.0, 'n_estimators': 10, 'random_state': None}\n",
            "0.864 (+/-0.034) for {'algorithm': 'SAMME', 'learning_rate': 1.0, 'n_estimators': 50, 'random_state': 50}\n",
            "0.864 (+/-0.034) for {'algorithm': 'SAMME', 'learning_rate': 1.0, 'n_estimators': 50, 'random_state': None}\n",
            "0.872 (+/-0.055) for {'algorithm': 'SAMME', 'learning_rate': 1.0, 'n_estimators': 100, 'random_state': 50}\n",
            "0.872 (+/-0.055) for {'algorithm': 'SAMME', 'learning_rate': 1.0, 'n_estimators': 100, 'random_state': None}\n",
            "0.859 (+/-0.045) for {'algorithm': 'SAMME.R', 'learning_rate': 0.5, 'n_estimators': 10, 'random_state': 50}\n",
            "0.859 (+/-0.045) for {'algorithm': 'SAMME.R', 'learning_rate': 0.5, 'n_estimators': 10, 'random_state': None}\n",
            "0.870 (+/-0.057) for {'algorithm': 'SAMME.R', 'learning_rate': 0.5, 'n_estimators': 50, 'random_state': 50}\n",
            "0.870 (+/-0.057) for {'algorithm': 'SAMME.R', 'learning_rate': 0.5, 'n_estimators': 50, 'random_state': None}\n",
            "0.873 (+/-0.060) for {'algorithm': 'SAMME.R', 'learning_rate': 0.5, 'n_estimators': 100, 'random_state': 50}\n",
            "0.873 (+/-0.060) for {'algorithm': 'SAMME.R', 'learning_rate': 0.5, 'n_estimators': 100, 'random_state': None}\n",
            "0.865 (+/-0.046) for {'algorithm': 'SAMME.R', 'learning_rate': 1.0, 'n_estimators': 10, 'random_state': 50}\n",
            "0.865 (+/-0.046) for {'algorithm': 'SAMME.R', 'learning_rate': 1.0, 'n_estimators': 10, 'random_state': None}\n",
            "0.869 (+/-0.065) for {'algorithm': 'SAMME.R', 'learning_rate': 1.0, 'n_estimators': 50, 'random_state': 50}\n",
            "0.869 (+/-0.065) for {'algorithm': 'SAMME.R', 'learning_rate': 1.0, 'n_estimators': 50, 'random_state': None}\n",
            "0.868 (+/-0.080) for {'algorithm': 'SAMME.R', 'learning_rate': 1.0, 'n_estimators': 100, 'random_state': 50}\n",
            "0.868 (+/-0.080) for {'algorithm': 'SAMME.R', 'learning_rate': 1.0, 'n_estimators': 100, 'random_state': None}\n",
            "\n",
            "Detailed classification report:\n",
            "\n",
            "The model is trained on the full development set.\n",
            "The scores are computed on the full evaluation set.\n",
            "\n",
            "              precision    recall  f1-score   support\n",
            "\n",
            "           0       0.82      0.91      0.86       139\n",
            "           1       0.89      0.80      0.84       136\n",
            "\n",
            "    accuracy                           0.85       275\n",
            "   macro avg       0.86      0.85      0.85       275\n",
            "weighted avg       0.86      0.85      0.85       275\n",
            "\n",
            "\n"
          ],
          "name": "stdout"
        }
      ]
    }
  ]
}
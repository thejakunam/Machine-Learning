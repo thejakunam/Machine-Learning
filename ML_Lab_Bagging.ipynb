{
  "nbformat": 4,
  "nbformat_minor": 0,
  "metadata": {
    "colab": {
      "name": "ML_Lab-Bagging.ipynb",
      "provenance": [],
      "include_colab_link": true
    },
    "kernelspec": {
      "name": "python3",
      "display_name": "Python 3"
    }
  },
  "cells": [
    {
      "cell_type": "markdown",
      "metadata": {
        "id": "view-in-github",
        "colab_type": "text"
      },
      "source": [
        "<a href=\"https://colab.research.google.com/github/thejakunam/Machine-Learning/blob/master/ML_Lab_Bagging.ipynb\" target=\"_parent\"><img src=\"https://colab.research.google.com/assets/colab-badge.svg\" alt=\"Open In Colab\"/></a>"
      ]
    },
    {
      "cell_type": "code",
      "metadata": {
        "id": "6YXnkE28bDv7",
        "colab_type": "code",
        "colab": {}
      },
      "source": [
        "import pandas as pd\n",
        "import numpy as np\n",
        "\n",
        "dataset = pd.read_csv(\"https://archive.ics.uci.edu/ml/machine-learning-databases/00267/data_banknote_authentication.txt\")\n",
        "\n",
        "X = dataset.iloc[:, [0, 3]]\n",
        "y = dataset.iloc[:, 4]\n",
        "\n",
        "from sklearn.model_selection import train_test_split\n",
        "X_train, X_test, y_train, y_test = train_test_split(X, y, test_size=0.20)"
      ],
      "execution_count": 0,
      "outputs": []
    },
    {
      "cell_type": "code",
      "metadata": {
        "id": "mXv8rugPZaVx",
        "colab_type": "code",
        "colab": {
          "base_uri": "https://localhost:8080/",
          "height": 85
        },
        "outputId": "65953ef5-9220-4c1f-fcf5-2cdffa47dd18"
      },
      "source": [
        "from sklearn.ensemble import BaggingClassifier\n",
        "bagging = BaggingClassifier()\n",
        "bagging.fit(X_train,y_train)"
      ],
      "execution_count": 2,
      "outputs": [
        {
          "output_type": "execute_result",
          "data": {
            "text/plain": [
              "BaggingClassifier(base_estimator=None, bootstrap=True, bootstrap_features=False,\n",
              "                  max_features=1.0, max_samples=1.0, n_estimators=10,\n",
              "                  n_jobs=None, oob_score=False, random_state=None, verbose=0,\n",
              "                  warm_start=False)"
            ]
          },
          "metadata": {
            "tags": []
          },
          "execution_count": 2
        }
      ]
    },
    {
      "cell_type": "code",
      "metadata": {
        "id": "qX3OG5g-Zw96",
        "colab_type": "code",
        "colab": {}
      },
      "source": [
        "#tuning parameters for bagging classifier\n",
        "from sklearn.neighbors import KNeighborsClassifier\n",
        "tuned_parameters = [{'n_estimators':[1,2,10],'max_features':[0.5,1.0],'max_samples':[0.5,1.0],'random_state':[10,None]}]\n",
        "\n",
        "scores = ['precision', 'recall','f1']"
      ],
      "execution_count": 0,
      "outputs": []
    },
    {
      "cell_type": "code",
      "metadata": {
        "id": "oXN9lCZuay0_",
        "colab_type": "code",
        "colab": {
          "base_uri": "https://localhost:8080/",
          "height": 1000
        },
        "outputId": "5f4106e3-4412-40d8-9c6d-21bbd289b319"
      },
      "source": [
        "from sklearn.model_selection import GridSearchCV\n",
        "from sklearn.metrics import classification_report\n",
        "from sklearn.neighbors import KNeighborsClassifier\n",
        "from sklearn.ensemble import BaggingClassifier\n",
        "for score in scores:\n",
        "    print(\"# Tuning hyper-parameters for %s\" % score)\n",
        "    print()\n",
        "\n",
        "    clf = GridSearchCV(BaggingClassifier(), tuned_parameters, cv=5,\n",
        "                       scoring='%s_macro' % score)\n",
        "    clf.fit(X_train, y_train)\n",
        "\n",
        "    print(\"Best parameters set found on development set:\")\n",
        "    print()\n",
        "    print(clf.best_params_)\n",
        "    print()\n",
        "    print(\"Grid scores on development set:\")\n",
        "    print()\n",
        "    means = clf.cv_results_['mean_test_score']\n",
        "    stds = clf.cv_results_['std_test_score']\n",
        "    for mean, std, params in zip(means, stds, clf.cv_results_['params']):\n",
        "        print(\"%0.3f (+/-%0.03f) for %r\"\n",
        "              % (mean, std * 2, params))\n",
        "    print()\n",
        "\n",
        "    print(\"Detailed classification report:\")\n",
        "    print()\n",
        "    print(\"The model is trained on the full development set.\")\n",
        "    print(\"The scores are computed on the full evaluation set.\")\n",
        "    print()\n",
        "    y_true, y_pred = y_test, clf.predict(X_test)\n",
        "    print(classification_report(y_true, y_pred))\n",
        "    print()"
      ],
      "execution_count": 14,
      "outputs": [
        {
          "output_type": "stream",
          "text": [
            "# Tuning hyper-parameters for precision\n",
            "\n",
            "Best parameters set found on development set:\n",
            "\n",
            "{'max_features': 1.0, 'max_samples': 0.5, 'n_estimators': 10, 'random_state': 10}\n",
            "\n",
            "Grid scores on development set:\n",
            "\n",
            "0.794 (+/-0.057) for {'max_features': 0.5, 'max_samples': 0.5, 'n_estimators': 1, 'random_state': 10}\n",
            "0.571 (+/-0.210) for {'max_features': 0.5, 'max_samples': 0.5, 'n_estimators': 1, 'random_state': None}\n",
            "0.803 (+/-0.031) for {'max_features': 0.5, 'max_samples': 0.5, 'n_estimators': 2, 'random_state': 10}\n",
            "0.664 (+/-0.243) for {'max_features': 0.5, 'max_samples': 0.5, 'n_estimators': 2, 'random_state': None}\n",
            "0.807 (+/-0.049) for {'max_features': 0.5, 'max_samples': 0.5, 'n_estimators': 10, 'random_state': 10}\n",
            "0.731 (+/-0.179) for {'max_features': 0.5, 'max_samples': 0.5, 'n_estimators': 10, 'random_state': None}\n",
            "0.796 (+/-0.041) for {'max_features': 0.5, 'max_samples': 1.0, 'n_estimators': 1, 'random_state': 10}\n",
            "0.643 (+/-0.266) for {'max_features': 0.5, 'max_samples': 1.0, 'n_estimators': 1, 'random_state': None}\n",
            "0.795 (+/-0.030) for {'max_features': 0.5, 'max_samples': 1.0, 'n_estimators': 2, 'random_state': 10}\n",
            "0.665 (+/-0.270) for {'max_features': 0.5, 'max_samples': 1.0, 'n_estimators': 2, 'random_state': None}\n",
            "0.804 (+/-0.024) for {'max_features': 0.5, 'max_samples': 1.0, 'n_estimators': 10, 'random_state': 10}\n",
            "0.706 (+/-0.198) for {'max_features': 0.5, 'max_samples': 1.0, 'n_estimators': 10, 'random_state': None}\n",
            "0.863 (+/-0.049) for {'max_features': 1.0, 'max_samples': 0.5, 'n_estimators': 1, 'random_state': 10}\n",
            "0.860 (+/-0.059) for {'max_features': 1.0, 'max_samples': 0.5, 'n_estimators': 1, 'random_state': None}\n",
            "0.869 (+/-0.034) for {'max_features': 1.0, 'max_samples': 0.5, 'n_estimators': 2, 'random_state': 10}\n",
            "0.867 (+/-0.040) for {'max_features': 1.0, 'max_samples': 0.5, 'n_estimators': 2, 'random_state': None}\n",
            "0.901 (+/-0.037) for {'max_features': 1.0, 'max_samples': 0.5, 'n_estimators': 10, 'random_state': 10}\n",
            "0.893 (+/-0.035) for {'max_features': 1.0, 'max_samples': 0.5, 'n_estimators': 10, 'random_state': None}\n",
            "0.867 (+/-0.039) for {'max_features': 1.0, 'max_samples': 1.0, 'n_estimators': 1, 'random_state': 10}\n",
            "0.879 (+/-0.060) for {'max_features': 1.0, 'max_samples': 1.0, 'n_estimators': 1, 'random_state': None}\n",
            "0.864 (+/-0.054) for {'max_features': 1.0, 'max_samples': 1.0, 'n_estimators': 2, 'random_state': 10}\n",
            "0.872 (+/-0.047) for {'max_features': 1.0, 'max_samples': 1.0, 'n_estimators': 2, 'random_state': None}\n",
            "0.892 (+/-0.053) for {'max_features': 1.0, 'max_samples': 1.0, 'n_estimators': 10, 'random_state': 10}\n",
            "0.895 (+/-0.040) for {'max_features': 1.0, 'max_samples': 1.0, 'n_estimators': 10, 'random_state': None}\n",
            "\n",
            "Detailed classification report:\n",
            "\n",
            "The model is trained on the full development set.\n",
            "The scores are computed on the full evaluation set.\n",
            "\n",
            "              precision    recall  f1-score   support\n",
            "\n",
            "           0       0.96      0.88      0.92       160\n",
            "           1       0.84      0.95      0.89       115\n",
            "\n",
            "    accuracy                           0.91       275\n",
            "   macro avg       0.90      0.91      0.90       275\n",
            "weighted avg       0.91      0.91      0.91       275\n",
            "\n",
            "\n",
            "# Tuning hyper-parameters for recall\n",
            "\n"
          ],
          "name": "stdout"
        },
        {
          "output_type": "stream",
          "text": [
            "/usr/local/lib/python3.6/dist-packages/sklearn/model_selection/_search.py:814: DeprecationWarning: The default of the `iid` parameter will change from True to False in version 0.22 and will be removed in 0.24. This will change numeric results when test-set sizes are unequal.\n",
            "  DeprecationWarning)\n"
          ],
          "name": "stderr"
        },
        {
          "output_type": "stream",
          "text": [
            "Best parameters set found on development set:\n",
            "\n",
            "{'max_features': 1.0, 'max_samples': 0.5, 'n_estimators': 10, 'random_state': 10}\n",
            "\n",
            "Grid scores on development set:\n",
            "\n",
            "0.793 (+/-0.055) for {'max_features': 0.5, 'max_samples': 0.5, 'n_estimators': 1, 'random_state': 10}\n",
            "0.806 (+/-0.018) for {'max_features': 0.5, 'max_samples': 0.5, 'n_estimators': 1, 'random_state': None}\n",
            "0.780 (+/-0.016) for {'max_features': 0.5, 'max_samples': 0.5, 'n_estimators': 2, 'random_state': 10}\n",
            "0.592 (+/-0.197) for {'max_features': 0.5, 'max_samples': 0.5, 'n_estimators': 2, 'random_state': None}\n",
            "0.795 (+/-0.040) for {'max_features': 0.5, 'max_samples': 0.5, 'n_estimators': 10, 'random_state': 10}\n",
            "0.718 (+/-0.148) for {'max_features': 0.5, 'max_samples': 0.5, 'n_estimators': 10, 'random_state': None}\n",
            "0.793 (+/-0.040) for {'max_features': 0.5, 'max_samples': 1.0, 'n_estimators': 1, 'random_state': 10}\n",
            "0.578 (+/-0.222) for {'max_features': 0.5, 'max_samples': 1.0, 'n_estimators': 1, 'random_state': None}\n",
            "0.777 (+/-0.028) for {'max_features': 0.5, 'max_samples': 1.0, 'n_estimators': 2, 'random_state': 10}\n",
            "0.569 (+/-0.236) for {'max_features': 0.5, 'max_samples': 1.0, 'n_estimators': 2, 'random_state': None}\n",
            "0.793 (+/-0.011) for {'max_features': 0.5, 'max_samples': 1.0, 'n_estimators': 10, 'random_state': 10}\n",
            "0.708 (+/-0.211) for {'max_features': 0.5, 'max_samples': 1.0, 'n_estimators': 10, 'random_state': None}\n",
            "0.862 (+/-0.050) for {'max_features': 1.0, 'max_samples': 0.5, 'n_estimators': 1, 'random_state': 10}\n",
            "0.850 (+/-0.040) for {'max_features': 1.0, 'max_samples': 0.5, 'n_estimators': 1, 'random_state': None}\n",
            "0.849 (+/-0.046) for {'max_features': 1.0, 'max_samples': 0.5, 'n_estimators': 2, 'random_state': 10}\n",
            "0.839 (+/-0.060) for {'max_features': 1.0, 'max_samples': 0.5, 'n_estimators': 2, 'random_state': None}\n",
            "0.896 (+/-0.043) for {'max_features': 1.0, 'max_samples': 0.5, 'n_estimators': 10, 'random_state': 10}\n",
            "0.895 (+/-0.048) for {'max_features': 1.0, 'max_samples': 0.5, 'n_estimators': 10, 'random_state': None}\n",
            "0.866 (+/-0.040) for {'max_features': 1.0, 'max_samples': 1.0, 'n_estimators': 1, 'random_state': 10}\n",
            "0.865 (+/-0.056) for {'max_features': 1.0, 'max_samples': 1.0, 'n_estimators': 1, 'random_state': None}\n",
            "0.847 (+/-0.057) for {'max_features': 1.0, 'max_samples': 1.0, 'n_estimators': 2, 'random_state': 10}\n",
            "0.869 (+/-0.038) for {'max_features': 1.0, 'max_samples': 1.0, 'n_estimators': 2, 'random_state': None}\n",
            "0.889 (+/-0.061) for {'max_features': 1.0, 'max_samples': 1.0, 'n_estimators': 10, 'random_state': 10}\n",
            "0.883 (+/-0.046) for {'max_features': 1.0, 'max_samples': 1.0, 'n_estimators': 10, 'random_state': None}\n",
            "\n",
            "Detailed classification report:\n",
            "\n",
            "The model is trained on the full development set.\n",
            "The scores are computed on the full evaluation set.\n",
            "\n",
            "              precision    recall  f1-score   support\n",
            "\n",
            "           0       0.96      0.88      0.92       160\n",
            "           1       0.84      0.95      0.89       115\n",
            "\n",
            "    accuracy                           0.91       275\n",
            "   macro avg       0.90      0.91      0.90       275\n",
            "weighted avg       0.91      0.91      0.91       275\n",
            "\n",
            "\n",
            "# Tuning hyper-parameters for f1\n",
            "\n",
            "Best parameters set found on development set:\n",
            "\n",
            "{'max_features': 1.0, 'max_samples': 0.5, 'n_estimators': 10, 'random_state': None}\n",
            "\n",
            "Grid scores on development set:\n",
            "\n",
            "0.793 (+/-0.056) for {'max_features': 0.5, 'max_samples': 0.5, 'n_estimators': 1, 'random_state': 10}\n",
            "0.515 (+/-0.090) for {'max_features': 0.5, 'max_samples': 0.5, 'n_estimators': 1, 'random_state': None}\n",
            "0.783 (+/-0.017) for {'max_features': 0.5, 'max_samples': 0.5, 'n_estimators': 2, 'random_state': 10}\n",
            "0.661 (+/-0.207) for {'max_features': 0.5, 'max_samples': 0.5, 'n_estimators': 2, 'random_state': None}\n",
            "0.797 (+/-0.041) for {'max_features': 0.5, 'max_samples': 0.5, 'n_estimators': 10, 'random_state': 10}\n",
            "0.785 (+/-0.029) for {'max_features': 0.5, 'max_samples': 0.5, 'n_estimators': 10, 'random_state': None}\n",
            "0.794 (+/-0.041) for {'max_features': 0.5, 'max_samples': 1.0, 'n_estimators': 1, 'random_state': 10}\n",
            "0.555 (+/-0.225) for {'max_features': 0.5, 'max_samples': 1.0, 'n_estimators': 1, 'random_state': None}\n",
            "0.780 (+/-0.029) for {'max_features': 0.5, 'max_samples': 1.0, 'n_estimators': 2, 'random_state': 10}\n",
            "0.664 (+/-0.239) for {'max_features': 0.5, 'max_samples': 1.0, 'n_estimators': 2, 'random_state': None}\n",
            "0.796 (+/-0.013) for {'max_features': 0.5, 'max_samples': 1.0, 'n_estimators': 10, 'random_state': 10}\n",
            "0.719 (+/-0.150) for {'max_features': 0.5, 'max_samples': 1.0, 'n_estimators': 10, 'random_state': None}\n",
            "0.862 (+/-0.050) for {'max_features': 1.0, 'max_samples': 0.5, 'n_estimators': 1, 'random_state': 10}\n",
            "0.866 (+/-0.026) for {'max_features': 1.0, 'max_samples': 0.5, 'n_estimators': 1, 'random_state': None}\n",
            "0.853 (+/-0.045) for {'max_features': 1.0, 'max_samples': 0.5, 'n_estimators': 2, 'random_state': 10}\n",
            "0.857 (+/-0.028) for {'max_features': 1.0, 'max_samples': 0.5, 'n_estimators': 2, 'random_state': None}\n",
            "0.897 (+/-0.042) for {'max_features': 1.0, 'max_samples': 0.5, 'n_estimators': 10, 'random_state': 10}\n",
            "0.900 (+/-0.040) for {'max_features': 1.0, 'max_samples': 0.5, 'n_estimators': 10, 'random_state': None}\n",
            "0.866 (+/-0.040) for {'max_features': 1.0, 'max_samples': 1.0, 'n_estimators': 1, 'random_state': 10}\n",
            "0.879 (+/-0.030) for {'max_features': 1.0, 'max_samples': 1.0, 'n_estimators': 1, 'random_state': None}\n",
            "0.851 (+/-0.058) for {'max_features': 1.0, 'max_samples': 1.0, 'n_estimators': 2, 'random_state': 10}\n",
            "0.864 (+/-0.067) for {'max_features': 1.0, 'max_samples': 1.0, 'n_estimators': 2, 'random_state': None}\n",
            "0.890 (+/-0.059) for {'max_features': 1.0, 'max_samples': 1.0, 'n_estimators': 10, 'random_state': 10}\n",
            "0.891 (+/-0.040) for {'max_features': 1.0, 'max_samples': 1.0, 'n_estimators': 10, 'random_state': None}\n",
            "\n",
            "Detailed classification report:\n",
            "\n",
            "The model is trained on the full development set.\n",
            "The scores are computed on the full evaluation set.\n",
            "\n",
            "              precision    recall  f1-score   support\n",
            "\n",
            "           0       0.96      0.86      0.90       160\n",
            "           1       0.83      0.95      0.88       115\n",
            "\n",
            "    accuracy                           0.89       275\n",
            "   macro avg       0.89      0.90      0.89       275\n",
            "weighted avg       0.90      0.89      0.90       275\n",
            "\n",
            "\n"
          ],
          "name": "stdout"
        }
      ]
    }
  ]
}
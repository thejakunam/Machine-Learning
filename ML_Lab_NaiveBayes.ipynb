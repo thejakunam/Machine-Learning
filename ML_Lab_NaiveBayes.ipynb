{
  "nbformat": 4,
  "nbformat_minor": 0,
  "metadata": {
    "colab": {
      "name": "ML_Lab-NaiveBayes.ipynb",
      "provenance": [],
      "include_colab_link": true
    },
    "kernelspec": {
      "name": "python3",
      "display_name": "Python 3"
    }
  },
  "cells": [
    {
      "cell_type": "markdown",
      "metadata": {
        "id": "view-in-github",
        "colab_type": "text"
      },
      "source": [
        "<a href=\"https://colab.research.google.com/github/thejakunam/Machine-Learning/blob/master/ML_Lab_NaiveBayes.ipynb\" target=\"_parent\"><img src=\"https://colab.research.google.com/assets/colab-badge.svg\" alt=\"Open In Colab\"/></a>"
      ]
    },
    {
      "cell_type": "code",
      "metadata": {
        "id": "_miZLpsTl0wm",
        "colab_type": "code",
        "colab": {}
      },
      "source": [
        "import pandas as pd\n",
        "import numpy as np\n",
        "\n",
        "dataset = pd.read_csv(\"https://archive.ics.uci.edu/ml/machine-learning-databases/00267/data_banknote_authentication.txt\")"
      ],
      "execution_count": 0,
      "outputs": []
    },
    {
      "cell_type": "code",
      "metadata": {
        "id": "zSx7qLddngPY",
        "colab_type": "code",
        "colab": {}
      },
      "source": [
        "X = dataset.iloc[:, [0, 3]]\n",
        "y = dataset.iloc[:, 4]"
      ],
      "execution_count": 0,
      "outputs": []
    },
    {
      "cell_type": "code",
      "metadata": {
        "id": "F1sGmNYRni3z",
        "colab_type": "code",
        "colab": {}
      },
      "source": [
        "from sklearn.model_selection import train_test_split\n",
        "X_train, X_test, y_train, y_test = train_test_split(X, y, test_size=0.20)"
      ],
      "execution_count": 0,
      "outputs": []
    },
    {
      "cell_type": "code",
      "metadata": {
        "id": "3boDLcCpnmu6",
        "colab_type": "code",
        "colab": {
          "base_uri": "https://localhost:8080/",
          "height": 34
        },
        "outputId": "d4c623d1-e6b3-47c7-8f4e-5049530afc30"
      },
      "source": [
        "from sklearn.naive_bayes import GaussianNB\n",
        "gnb = GaussianNB()\n",
        "gnb.fit(X_train, y_train)"
      ],
      "execution_count": 7,
      "outputs": [
        {
          "output_type": "execute_result",
          "data": {
            "text/plain": [
              "GaussianNB(priors=None, var_smoothing=1e-09)"
            ]
          },
          "metadata": {
            "tags": []
          },
          "execution_count": 7
        }
      ]
    },
    {
      "cell_type": "code",
      "metadata": {
        "id": "T3Py9jx-nxcS",
        "colab_type": "code",
        "colab": {}
      },
      "source": [
        "#tuning parameters for Gaussian Naive Bayes\n",
        "tuned_parameters = [{'priors': [[0.75,0.25],[0.55,0.45]]}]\n",
        "\n",
        "scores = ['precision', 'recall','f1']"
      ],
      "execution_count": 0,
      "outputs": []
    },
    {
      "cell_type": "code",
      "metadata": {
        "id": "XYXbCANQZlas",
        "colab_type": "code",
        "colab": {
          "base_uri": "https://localhost:8080/",
          "height": 1000
        },
        "outputId": "ad20ee9f-ffcd-4ee2-c752-333828dbec81"
      },
      "source": [
        "from sklearn.model_selection import GridSearchCV\n",
        "from sklearn.metrics import classification_report\n",
        "from sklearn.naive_bayes import GaussianNB\n",
        "for score in scores:\n",
        "    print(\"# Tuning hyper-parameters for %s\" % score)\n",
        "    print()\n",
        "\n",
        "    clf = GridSearchCV(GaussianNB(), tuned_parameters, cv=5,\n",
        "                       scoring='%s_macro' % score)\n",
        "    clf.fit(X_train, y_train)\n",
        "\n",
        "    print(\"Best parameters set found on development set:\")\n",
        "    print()\n",
        "    print(clf.best_params_)\n",
        "    print()\n",
        "    print(\"Grid scores on development set:\")\n",
        "    print()\n",
        "    means = clf.cv_results_['mean_test_score']\n",
        "    stds = clf.cv_results_['std_test_score']\n",
        "    for mean, std, params in zip(means, stds, clf.cv_results_['params']):\n",
        "        print(\"%0.3f (+/-%0.03f) for %r\"\n",
        "              % (mean, std * 2, params))\n",
        "    print()\n",
        "\n",
        "    print(\"Detailed classification report:\")\n",
        "    print()\n",
        "    print(\"The model is trained on the full development set.\")\n",
        "    print(\"The scores are computed on the full evaluation set.\")\n",
        "    print()\n",
        "    y_true, y_pred = y_test, clf.predict(X_test)\n",
        "    print(classification_report(y_true, y_pred))\n",
        "    print()"
      ],
      "execution_count": 12,
      "outputs": [
        {
          "output_type": "stream",
          "text": [
            "# Tuning hyper-parameters for precision\n",
            "\n",
            "Best parameters set found on development set:\n",
            "\n",
            "{'priors': [0.55, 0.45]}\n",
            "\n",
            "Grid scores on development set:\n",
            "\n",
            "0.833 (+/-0.037) for {'priors': [0.75, 0.25]}\n",
            "0.844 (+/-0.025) for {'priors': [0.55, 0.45]}\n",
            "\n",
            "Detailed classification report:\n",
            "\n",
            "The model is trained on the full development set.\n",
            "The scores are computed on the full evaluation set.\n",
            "\n",
            "              precision    recall  f1-score   support\n",
            "\n",
            "           0       0.87      0.86      0.86       151\n",
            "           1       0.83      0.84      0.84       124\n",
            "\n",
            "    accuracy                           0.85       275\n",
            "   macro avg       0.85      0.85      0.85       275\n",
            "weighted avg       0.85      0.85      0.85       275\n",
            "\n",
            "\n",
            "# Tuning hyper-parameters for recall\n",
            "\n",
            "Best parameters set found on development set:\n",
            "\n",
            "{'priors': [0.55, 0.45]}\n",
            "\n",
            "Grid scores on development set:\n",
            "\n",
            "0.808 (+/-0.035) for {'priors': [0.75, 0.25]}\n",
            "0.842 (+/-0.022) for {'priors': [0.55, 0.45]}\n",
            "\n",
            "Detailed classification report:\n",
            "\n",
            "The model is trained on the full development set.\n",
            "The scores are computed on the full evaluation set.\n",
            "\n",
            "              precision    recall  f1-score   support\n",
            "\n",
            "           0       0.87      0.86      0.86       151\n",
            "           1       0.83      0.84      0.84       124\n",
            "\n",
            "    accuracy                           0.85       275\n",
            "   macro avg       0.85      0.85      0.85       275\n",
            "weighted avg       0.85      0.85      0.85       275\n",
            "\n",
            "\n",
            "# Tuning hyper-parameters for f1\n",
            "\n",
            "Best parameters set found on development set:\n",
            "\n",
            "{'priors': [0.55, 0.45]}\n",
            "\n",
            "Grid scores on development set:\n",
            "\n",
            "0.812 (+/-0.036) for {'priors': [0.75, 0.25]}\n",
            "0.843 (+/-0.024) for {'priors': [0.55, 0.45]}\n",
            "\n",
            "Detailed classification report:\n",
            "\n",
            "The model is trained on the full development set.\n",
            "The scores are computed on the full evaluation set.\n",
            "\n",
            "              precision    recall  f1-score   support\n",
            "\n",
            "           0       0.87      0.86      0.86       151\n",
            "           1       0.83      0.84      0.84       124\n",
            "\n",
            "    accuracy                           0.85       275\n",
            "   macro avg       0.85      0.85      0.85       275\n",
            "weighted avg       0.85      0.85      0.85       275\n",
            "\n",
            "\n"
          ],
          "name": "stdout"
        }
      ]
    }
  ]
}
{
  "nbformat": 4,
  "nbformat_minor": 0,
  "metadata": {
    "colab": {
      "name": "ML_Lab-SVM.ipynb",
      "provenance": [],
      "include_colab_link": true
    },
    "kernelspec": {
      "name": "python3",
      "display_name": "Python 3"
    }
  },
  "cells": [
    {
      "cell_type": "markdown",
      "metadata": {
        "id": "view-in-github",
        "colab_type": "text"
      },
      "source": [
        "<a href=\"https://colab.research.google.com/github/thejakunam/Machine-Learning/blob/master/ML_Lab_SVM.ipynb\" target=\"_parent\"><img src=\"https://colab.research.google.com/assets/colab-badge.svg\" alt=\"Open In Colab\"/></a>"
      ]
    },
    {
      "cell_type": "code",
      "metadata": {
        "id": "tA6y2wdKjbzo",
        "colab_type": "code",
        "colab": {}
      },
      "source": [
        "import pandas as pd\n",
        "import numpy as np\n",
        "\n",
        "dataset = pd.read_csv(\"https://archive.ics.uci.edu/ml/machine-learning-databases/00267/data_banknote_authentication.txt\")"
      ],
      "execution_count": 0,
      "outputs": []
    },
    {
      "cell_type": "code",
      "metadata": {
        "id": "-bhR-_R6jnQQ",
        "colab_type": "code",
        "colab": {}
      },
      "source": [
        "X = dataset.iloc[:, [0, 3]]\n",
        "y = dataset.iloc[:, 4]"
      ],
      "execution_count": 0,
      "outputs": []
    },
    {
      "cell_type": "code",
      "metadata": {
        "id": "OQiT0Eo8joCw",
        "colab_type": "code",
        "colab": {}
      },
      "source": [
        "from sklearn.model_selection import train_test_split\n",
        "X_train, X_test, y_train, y_test = train_test_split(X, y, test_size=0.20)"
      ],
      "execution_count": 0,
      "outputs": []
    },
    {
      "cell_type": "code",
      "metadata": {
        "id": "bS-LhRT5jrSu",
        "colab_type": "code",
        "colab": {
          "base_uri": "https://localhost:8080/",
          "height": 139
        },
        "outputId": "b207a275-d329-449c-f63b-9665625a6470"
      },
      "source": [
        "from sklearn.svm import SVC\n",
        "clf = SVC()\n",
        "clf.fit(X_train, y_train)\n"
      ],
      "execution_count": 5,
      "outputs": [
        {
          "output_type": "stream",
          "text": [
            "/usr/local/lib/python3.6/dist-packages/sklearn/svm/base.py:193: FutureWarning: The default value of gamma will change from 'auto' to 'scale' in version 0.22 to account better for unscaled features. Set gamma explicitly to 'auto' or 'scale' to avoid this warning.\n",
            "  \"avoid this warning.\", FutureWarning)\n"
          ],
          "name": "stderr"
        },
        {
          "output_type": "execute_result",
          "data": {
            "text/plain": [
              "SVC(C=1.0, cache_size=200, class_weight=None, coef0=0.0,\n",
              "    decision_function_shape='ovr', degree=3, gamma='auto_deprecated',\n",
              "    kernel='rbf', max_iter=-1, probability=False, random_state=None,\n",
              "    shrinking=True, tol=0.001, verbose=False)"
            ]
          },
          "metadata": {
            "tags": []
          },
          "execution_count": 5
        }
      ]
    },
    {
      "cell_type": "code",
      "metadata": {
        "id": "wQkVDzrLjylP",
        "colab_type": "code",
        "colab": {}
      },
      "source": [
        "#tuning parameters for SVM\n",
        "tuned_parameters = [{'C': [1.0,2.0,5.5], 'kernel': ['poly'],\n",
        "                     'degree': [2,3,5],'gamma':['auto','scale']}]\n",
        "\n",
        "scores = ['precision', 'recall','f1']"
      ],
      "execution_count": 0,
      "outputs": []
    },
    {
      "cell_type": "code",
      "metadata": {
        "id": "isC318LIk7Ll",
        "colab_type": "code",
        "colab": {
          "base_uri": "https://localhost:8080/",
          "height": 1000
        },
        "outputId": "39c72f39-81cb-4bf1-c45d-752720d31588"
      },
      "source": [
        "from sklearn.model_selection import GridSearchCV\n",
        "from sklearn.metrics import classification_report\n",
        "from sklearn.svm import SVC\n",
        "for score in scores:\n",
        "    print(\"# Tuning hyper-parameters for %s\" % score)\n",
        "    print()\n",
        "\n",
        "    clf = GridSearchCV(SVC(), tuned_parameters, cv=5,\n",
        "                       scoring='%s_macro' % score)\n",
        "    clf.fit(X_train, y_train)\n",
        "\n",
        "    print(\"Best parameters set found on development set:\")\n",
        "    print()\n",
        "    print(clf.best_params_)\n",
        "    print()\n",
        "    print(\"Grid scores on development set:\")\n",
        "    print()\n",
        "    means = clf.cv_results_['mean_test_score']\n",
        "    stds = clf.cv_results_['std_test_score']\n",
        "    for mean, std, params in zip(means, stds, clf.cv_results_['params']):\n",
        "        print(\"%0.3f (+/-%0.03f) for %r\"\n",
        "              % (mean, std * 2, params))\n",
        "    print()\n",
        "\n",
        "    print(\"Detailed classification report:\")\n",
        "    print()\n",
        "    print(\"The model is trained on the full development set.\")\n",
        "    print(\"The scores are computed on the full evaluation set.\")\n",
        "    print()\n",
        "    y_true, y_pred = y_test, clf.predict(X_test)\n",
        "    print(classification_report(y_true, y_pred))\n",
        "    print()"
      ],
      "execution_count": 7,
      "outputs": [
        {
          "output_type": "stream",
          "text": [
            "# Tuning hyper-parameters for precision\n",
            "\n",
            "Best parameters set found on development set:\n",
            "\n",
            "{'C': 5.5, 'degree': 5, 'gamma': 'auto', 'kernel': 'poly'}\n",
            "\n",
            "Grid scores on development set:\n",
            "\n",
            "0.657 (+/-0.032) for {'C': 1.0, 'degree': 2, 'gamma': 'auto', 'kernel': 'poly'}\n",
            "0.658 (+/-0.033) for {'C': 1.0, 'degree': 2, 'gamma': 'scale', 'kernel': 'poly'}\n",
            "0.837 (+/-0.049) for {'C': 1.0, 'degree': 3, 'gamma': 'auto', 'kernel': 'poly'}\n",
            "0.823 (+/-0.041) for {'C': 1.0, 'degree': 3, 'gamma': 'scale', 'kernel': 'poly'}\n",
            "0.841 (+/-0.022) for {'C': 1.0, 'degree': 5, 'gamma': 'auto', 'kernel': 'poly'}\n",
            "0.826 (+/-0.018) for {'C': 1.0, 'degree': 5, 'gamma': 'scale', 'kernel': 'poly'}\n",
            "0.657 (+/-0.032) for {'C': 2.0, 'degree': 2, 'gamma': 'auto', 'kernel': 'poly'}\n",
            "0.657 (+/-0.032) for {'C': 2.0, 'degree': 2, 'gamma': 'scale', 'kernel': 'poly'}\n",
            "0.837 (+/-0.049) for {'C': 2.0, 'degree': 3, 'gamma': 'auto', 'kernel': 'poly'}\n",
            "0.833 (+/-0.035) for {'C': 2.0, 'degree': 3, 'gamma': 'scale', 'kernel': 'poly'}\n",
            "0.841 (+/-0.022) for {'C': 2.0, 'degree': 5, 'gamma': 'auto', 'kernel': 'poly'}\n",
            "0.824 (+/-0.015) for {'C': 2.0, 'degree': 5, 'gamma': 'scale', 'kernel': 'poly'}\n",
            "0.657 (+/-0.032) for {'C': 5.5, 'degree': 2, 'gamma': 'auto', 'kernel': 'poly'}\n",
            "0.657 (+/-0.032) for {'C': 5.5, 'degree': 2, 'gamma': 'scale', 'kernel': 'poly'}\n",
            "0.837 (+/-0.049) for {'C': 5.5, 'degree': 3, 'gamma': 'auto', 'kernel': 'poly'}\n",
            "0.837 (+/-0.025) for {'C': 5.5, 'degree': 3, 'gamma': 'scale', 'kernel': 'poly'}\n",
            "0.842 (+/-0.018) for {'C': 5.5, 'degree': 5, 'gamma': 'auto', 'kernel': 'poly'}\n",
            "0.828 (+/-0.011) for {'C': 5.5, 'degree': 5, 'gamma': 'scale', 'kernel': 'poly'}\n",
            "\n",
            "Detailed classification report:\n",
            "\n",
            "The model is trained on the full development set.\n",
            "The scores are computed on the full evaluation set.\n",
            "\n",
            "              precision    recall  f1-score   support\n",
            "\n",
            "           0       0.99      0.81      0.89       144\n",
            "           1       0.83      0.99      0.90       131\n",
            "\n",
            "    accuracy                           0.90       275\n",
            "   macro avg       0.91      0.90      0.90       275\n",
            "weighted avg       0.91      0.90      0.90       275\n",
            "\n",
            "\n",
            "# Tuning hyper-parameters for recall\n",
            "\n",
            "Best parameters set found on development set:\n",
            "\n",
            "{'C': 1.0, 'degree': 3, 'gamma': 'auto', 'kernel': 'poly'}\n",
            "\n",
            "Grid scores on development set:\n",
            "\n",
            "0.658 (+/-0.032) for {'C': 1.0, 'degree': 2, 'gamma': 'auto', 'kernel': 'poly'}\n",
            "0.659 (+/-0.032) for {'C': 1.0, 'degree': 2, 'gamma': 'scale', 'kernel': 'poly'}\n",
            "0.841 (+/-0.049) for {'C': 1.0, 'degree': 3, 'gamma': 'auto', 'kernel': 'poly'}\n",
            "0.825 (+/-0.041) for {'C': 1.0, 'degree': 3, 'gamma': 'scale', 'kernel': 'poly'}\n",
            "0.838 (+/-0.023) for {'C': 1.0, 'degree': 5, 'gamma': 'auto', 'kernel': 'poly'}\n",
            "0.811 (+/-0.021) for {'C': 1.0, 'degree': 5, 'gamma': 'scale', 'kernel': 'poly'}\n",
            "0.658 (+/-0.032) for {'C': 2.0, 'degree': 2, 'gamma': 'auto', 'kernel': 'poly'}\n",
            "0.658 (+/-0.032) for {'C': 2.0, 'degree': 2, 'gamma': 'scale', 'kernel': 'poly'}\n",
            "0.841 (+/-0.049) for {'C': 2.0, 'degree': 3, 'gamma': 'auto', 'kernel': 'poly'}\n",
            "0.835 (+/-0.034) for {'C': 2.0, 'degree': 3, 'gamma': 'scale', 'kernel': 'poly'}\n",
            "0.838 (+/-0.023) for {'C': 2.0, 'degree': 5, 'gamma': 'auto', 'kernel': 'poly'}\n",
            "0.812 (+/-0.020) for {'C': 2.0, 'degree': 5, 'gamma': 'scale', 'kernel': 'poly'}\n",
            "0.658 (+/-0.032) for {'C': 5.5, 'degree': 2, 'gamma': 'auto', 'kernel': 'poly'}\n",
            "0.658 (+/-0.032) for {'C': 5.5, 'degree': 2, 'gamma': 'scale', 'kernel': 'poly'}\n",
            "0.841 (+/-0.049) for {'C': 5.5, 'degree': 3, 'gamma': 'auto', 'kernel': 'poly'}\n",
            "0.838 (+/-0.022) for {'C': 5.5, 'degree': 3, 'gamma': 'scale', 'kernel': 'poly'}\n",
            "0.839 (+/-0.017) for {'C': 5.5, 'degree': 5, 'gamma': 'auto', 'kernel': 'poly'}\n",
            "0.818 (+/-0.013) for {'C': 5.5, 'degree': 5, 'gamma': 'scale', 'kernel': 'poly'}\n",
            "\n",
            "Detailed classification report:\n",
            "\n",
            "The model is trained on the full development set.\n",
            "The scores are computed on the full evaluation set.\n",
            "\n",
            "              precision    recall  f1-score   support\n",
            "\n",
            "           0       0.96      0.88      0.92       144\n",
            "           1       0.88      0.96      0.92       131\n",
            "\n",
            "    accuracy                           0.92       275\n",
            "   macro avg       0.92      0.92      0.92       275\n",
            "weighted avg       0.92      0.92      0.92       275\n",
            "\n",
            "\n",
            "# Tuning hyper-parameters for f1\n",
            "\n",
            "Best parameters set found on development set:\n",
            "\n",
            "{'C': 1.0, 'degree': 3, 'gamma': 'auto', 'kernel': 'poly'}\n",
            "\n",
            "Grid scores on development set:\n",
            "\n",
            "0.650 (+/-0.032) for {'C': 1.0, 'degree': 2, 'gamma': 'auto', 'kernel': 'poly'}\n",
            "0.650 (+/-0.032) for {'C': 1.0, 'degree': 2, 'gamma': 'scale', 'kernel': 'poly'}\n",
            "0.832 (+/-0.048) for {'C': 1.0, 'degree': 3, 'gamma': 'auto', 'kernel': 'poly'}\n",
            "0.814 (+/-0.041) for {'C': 1.0, 'degree': 3, 'gamma': 'scale', 'kernel': 'poly'}\n",
            "0.823 (+/-0.026) for {'C': 1.0, 'degree': 5, 'gamma': 'auto', 'kernel': 'poly'}\n",
            "0.789 (+/-0.023) for {'C': 1.0, 'degree': 5, 'gamma': 'scale', 'kernel': 'poly'}\n",
            "0.650 (+/-0.032) for {'C': 2.0, 'degree': 2, 'gamma': 'auto', 'kernel': 'poly'}\n",
            "0.650 (+/-0.032) for {'C': 2.0, 'degree': 2, 'gamma': 'scale', 'kernel': 'poly'}\n",
            "0.832 (+/-0.048) for {'C': 2.0, 'degree': 3, 'gamma': 'auto', 'kernel': 'poly'}\n",
            "0.825 (+/-0.033) for {'C': 2.0, 'degree': 3, 'gamma': 'scale', 'kernel': 'poly'}\n",
            "0.823 (+/-0.026) for {'C': 2.0, 'degree': 5, 'gamma': 'auto', 'kernel': 'poly'}\n",
            "0.792 (+/-0.023) for {'C': 2.0, 'degree': 5, 'gamma': 'scale', 'kernel': 'poly'}\n",
            "0.650 (+/-0.032) for {'C': 5.5, 'degree': 2, 'gamma': 'auto', 'kernel': 'poly'}\n",
            "0.650 (+/-0.032) for {'C': 5.5, 'degree': 2, 'gamma': 'scale', 'kernel': 'poly'}\n",
            "0.832 (+/-0.048) for {'C': 5.5, 'degree': 3, 'gamma': 'auto', 'kernel': 'poly'}\n",
            "0.827 (+/-0.019) for {'C': 5.5, 'degree': 3, 'gamma': 'scale', 'kernel': 'poly'}\n",
            "0.824 (+/-0.019) for {'C': 5.5, 'degree': 5, 'gamma': 'auto', 'kernel': 'poly'}\n",
            "0.800 (+/-0.016) for {'C': 5.5, 'degree': 5, 'gamma': 'scale', 'kernel': 'poly'}\n",
            "\n",
            "Detailed classification report:\n",
            "\n",
            "The model is trained on the full development set.\n",
            "The scores are computed on the full evaluation set.\n",
            "\n",
            "              precision    recall  f1-score   support\n",
            "\n",
            "           0       0.96      0.88      0.92       144\n",
            "           1       0.88      0.96      0.92       131\n",
            "\n",
            "    accuracy                           0.92       275\n",
            "   macro avg       0.92      0.92      0.92       275\n",
            "weighted avg       0.92      0.92      0.92       275\n",
            "\n",
            "\n"
          ],
          "name": "stdout"
        }
      ]
    }
  ]
}